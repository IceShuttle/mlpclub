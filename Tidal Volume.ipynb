{
 "cells":[
  {
   "cell_type":"code",
   "source":[
    "import pandas as pd\n",
    "import numpy as np\n",
    "from matplotlib import pyplot as plt\n",
    "%matplotlib inline"
   ],
   "execution_count":1,
   "outputs":[],
   "metadata":{
    "datalore":{
     "node_id":"r7Sp0FwWqBQlbRx2WiHfQA",
     "type":"CODE",
     "hide_input_from_viewers":true,
     "hide_output_from_viewers":true
    }
   }
  },
  {
   "cell_type":"code",
   "source":[
    "file_path = \"\/data\/workspace_files\/lungcapacity.csv\"\n",
    "male_rlv = 1.2+1.1+3.3\n",
    "female_rlv = 1.1+0.8+1.9"
   ],
   "execution_count":2,
   "outputs":[],
   "metadata":{
    "datalore":{
     "node_id":"p233tR7w3qHsVDJkG1Ih6o",
     "type":"CODE",
     "hide_input_from_viewers":true,
     "hide_output_from_viewers":true
    }
   }
  },
  {
   "cell_type":"code",
   "source":[
    "df = pd.read_csv(file_path)\n",
    "df = df.dropna()\n",
    "df.head()"
   ],
   "execution_count":3,
   "outputs":[
    {
     "data":{
      "text\/html":[
       "<div>\n",
       "<style scoped>\n",
       "    .dataframe tbody tr th:only-of-type {\n",
       "        vertical-align: middle;\n",
       "    }\n",
       "\n",
       "    .dataframe tbody tr th {\n",
       "        vertical-align: top;\n",
       "    }\n",
       "\n",
       "    .dataframe thead th {\n",
       "        text-align: right;\n",
       "    }\n",
       "<\/style>\n",
       "<table border=\"1\" class=\"dataframe\">\n",
       "  <thead>\n",
       "    <tr style=\"text-align: right;\">\n",
       "      <th><\/th>\n",
       "      <th>LungCap(cc)<\/th>\n",
       "      <th>Age( years)<\/th>\n",
       "      <th>Height(inches)<\/th>\n",
       "      <th>Smoke<\/th>\n",
       "      <th>Gender<\/th>\n",
       "      <th>Caesarean<\/th>\n",
       "      <th>No of children<\/th>\n",
       "      <th>Weight (kg)<\/th>\n",
       "    <\/tr>\n",
       "  <\/thead>\n",
       "  <tbody>\n",
       "    <tr>\n",
       "      <th>1<\/th>\n",
       "      <td>10.125<\/td>\n",
       "      <td>18.0<\/td>\n",
       "      <td>74.7<\/td>\n",
       "      <td>yes<\/td>\n",
       "      <td>female<\/td>\n",
       "      <td>no<\/td>\n",
       "      <td>0<\/td>\n",
       "      <td>98.75<\/td>\n",
       "    <\/tr>\n",
       "    <tr>\n",
       "      <th>2<\/th>\n",
       "      <td>9.550<\/td>\n",
       "      <td>16.0<\/td>\n",
       "      <td>69.7<\/td>\n",
       "      <td>no<\/td>\n",
       "      <td>female<\/td>\n",
       "      <td>yes<\/td>\n",
       "      <td>0<\/td>\n",
       "      <td>11.01<\/td>\n",
       "    <\/tr>\n",
       "    <tr>\n",
       "      <th>3<\/th>\n",
       "      <td>11.125<\/td>\n",
       "      <td>14.0<\/td>\n",
       "      <td>71.0<\/td>\n",
       "      <td>no<\/td>\n",
       "      <td>male<\/td>\n",
       "      <td>no<\/td>\n",
       "      <td>1<\/td>\n",
       "      <td>29.78<\/td>\n",
       "    <\/tr>\n",
       "    <tr>\n",
       "      <th>4<\/th>\n",
       "      <td>4.800<\/td>\n",
       "      <td>5.0<\/td>\n",
       "      <td>56.9<\/td>\n",
       "      <td>no<\/td>\n",
       "      <td>male<\/td>\n",
       "      <td>no<\/td>\n",
       "      <td>4<\/td>\n",
       "      <td>72.84<\/td>\n",
       "    <\/tr>\n",
       "    <tr>\n",
       "      <th>5<\/th>\n",
       "      <td>6.225<\/td>\n",
       "      <td>11.0<\/td>\n",
       "      <td>58.7<\/td>\n",
       "      <td>no<\/td>\n",
       "      <td>female<\/td>\n",
       "      <td>no<\/td>\n",
       "      <td>1<\/td>\n",
       "      <td>24.76<\/td>\n",
       "    <\/tr>\n",
       "  <\/tbody>\n",
       "<\/table>\n",
       "<\/div>"
      ]
     },
     "metadata":{},
     "output_type":"display_data"
    }
   ],
   "metadata":{
    "datalore":{
     "node_id":"iZHkYeqfxUyD6ZzGFMwm4o",
     "type":"CODE",
     "hide_input_from_viewers":true,
     "hide_output_from_viewers":true
    }
   }
  },
  {
   "cell_type":"code",
   "source":[
    "male_lung_cap_avg = df[df['Gender'] == 'male']['LungCap(cc)'].mean()\n",
    "female_lung_cap_avg = df[df['Gender'] == 'female']['LungCap(cc)'].mean()\n",
    "\n",
    "# Print the average lung capacity for males and females\n",
    "print(\"Average lung capacity for males: \", male_lung_cap_avg)\n",
    "print(\"Average lung capacity for females: \", female_lung_cap_avg)"
   ],
   "execution_count":4,
   "outputs":[
    {
     "name":"stdout",
     "text":[
      "Average lung capacity for males:  8.294460227272728\n",
      "Average lung capacity for females:  7.414738028169014\n"
     ],
     "output_type":"stream"
    }
   ],
   "metadata":{
    "datalore":{
     "node_id":"jqUDPNWxd4GVLUbgas9zDh",
     "type":"CODE",
     "hide_input_from_viewers":true,
     "hide_output_from_viewers":true
    }
   }
  },
  {
   "cell_type":"code",
   "source":[
    "def add_tidal(df):\n",
    "    # Create tidal_volume column, performing different calculations based on gender\n",
    "    df['tidal_volume'] = df.apply(lambda row: row[\"LungCap(cc)\"] * (male_rlv \/ male_lung_cap_avg) if row[\"Gender\"]==\"male\" else row[\"LungCap(cc)\"] * (female_rlv \/ female_lung_cap_avg), axis=1)\n",
    "    return df\n",
    "\n",
    "df = add_tidal(df)\n",
    "df.head()"
   ],
   "execution_count":5,
   "outputs":[
    {
     "data":{
      "text\/html":[
       "<div>\n",
       "<style scoped>\n",
       "    .dataframe tbody tr th:only-of-type {\n",
       "        vertical-align: middle;\n",
       "    }\n",
       "\n",
       "    .dataframe tbody tr th {\n",
       "        vertical-align: top;\n",
       "    }\n",
       "\n",
       "    .dataframe thead th {\n",
       "        text-align: right;\n",
       "    }\n",
       "<\/style>\n",
       "<table border=\"1\" class=\"dataframe\">\n",
       "  <thead>\n",
       "    <tr style=\"text-align: right;\">\n",
       "      <th><\/th>\n",
       "      <th>LungCap(cc)<\/th>\n",
       "      <th>Age( years)<\/th>\n",
       "      <th>Height(inches)<\/th>\n",
       "      <th>Smoke<\/th>\n",
       "      <th>Gender<\/th>\n",
       "      <th>Caesarean<\/th>\n",
       "      <th>No of children<\/th>\n",
       "      <th>Weight (kg)<\/th>\n",
       "      <th>tidal_volume<\/th>\n",
       "    <\/tr>\n",
       "  <\/thead>\n",
       "  <tbody>\n",
       "    <tr>\n",
       "      <th>1<\/th>\n",
       "      <td>10.125<\/td>\n",
       "      <td>18.0<\/td>\n",
       "      <td>74.7<\/td>\n",
       "      <td>yes<\/td>\n",
       "      <td>female<\/td>\n",
       "      <td>no<\/td>\n",
       "      <td>0<\/td>\n",
       "      <td>98.75<\/td>\n",
       "      <td>5.188990<\/td>\n",
       "    <\/tr>\n",
       "    <tr>\n",
       "      <th>2<\/th>\n",
       "      <td>9.550<\/td>\n",
       "      <td>16.0<\/td>\n",
       "      <td>69.7<\/td>\n",
       "      <td>no<\/td>\n",
       "      <td>female<\/td>\n",
       "      <td>yes<\/td>\n",
       "      <td>0<\/td>\n",
       "      <td>11.01<\/td>\n",
       "      <td>4.894306<\/td>\n",
       "    <\/tr>\n",
       "    <tr>\n",
       "      <th>3<\/th>\n",
       "      <td>11.125<\/td>\n",
       "      <td>14.0<\/td>\n",
       "      <td>71.0<\/td>\n",
       "      <td>no<\/td>\n",
       "      <td>male<\/td>\n",
       "      <td>no<\/td>\n",
       "      <td>1<\/td>\n",
       "      <td>29.78<\/td>\n",
       "      <td>7.511037<\/td>\n",
       "    <\/tr>\n",
       "    <tr>\n",
       "      <th>4<\/th>\n",
       "      <td>4.800<\/td>\n",
       "      <td>5.0<\/td>\n",
       "      <td>56.9<\/td>\n",
       "      <td>no<\/td>\n",
       "      <td>male<\/td>\n",
       "      <td>no<\/td>\n",
       "      <td>4<\/td>\n",
       "      <td>72.84<\/td>\n",
       "      <td>3.240717<\/td>\n",
       "    <\/tr>\n",
       "    <tr>\n",
       "      <th>5<\/th>\n",
       "      <td>6.225<\/td>\n",
       "      <td>11.0<\/td>\n",
       "      <td>58.7<\/td>\n",
       "      <td>no<\/td>\n",
       "      <td>female<\/td>\n",
       "      <td>no<\/td>\n",
       "      <td>1<\/td>\n",
       "      <td>24.76<\/td>\n",
       "      <td>3.190268<\/td>\n",
       "    <\/tr>\n",
       "  <\/tbody>\n",
       "<\/table>\n",
       "<\/div>"
      ]
     },
     "metadata":{},
     "output_type":"display_data"
    }
   ],
   "metadata":{
    "datalore":{
     "node_id":"axOjq3He9brGVJMWICUevF",
     "type":"CODE",
     "hide_input_from_viewers":true,
     "hide_output_from_viewers":true
    }
   }
  },
  {
   "cell_type":"code",
   "source":[
    "df = add_tidal(df)\n",
    "df"
   ],
   "execution_count":6,
   "outputs":[
    {
     "data":{
      "text\/html":[
       "<div>\n",
       "<style scoped>\n",
       "    .dataframe tbody tr th:only-of-type {\n",
       "        vertical-align: middle;\n",
       "    }\n",
       "\n",
       "    .dataframe tbody tr th {\n",
       "        vertical-align: top;\n",
       "    }\n",
       "\n",
       "    .dataframe thead th {\n",
       "        text-align: right;\n",
       "    }\n",
       "<\/style>\n",
       "<table border=\"1\" class=\"dataframe\">\n",
       "  <thead>\n",
       "    <tr style=\"text-align: right;\">\n",
       "      <th><\/th>\n",
       "      <th>LungCap(cc)<\/th>\n",
       "      <th>Age( years)<\/th>\n",
       "      <th>Height(inches)<\/th>\n",
       "      <th>Smoke<\/th>\n",
       "      <th>Gender<\/th>\n",
       "      <th>Caesarean<\/th>\n",
       "      <th>No of children<\/th>\n",
       "      <th>Weight (kg)<\/th>\n",
       "      <th>tidal_volume<\/th>\n",
       "    <\/tr>\n",
       "  <\/thead>\n",
       "  <tbody>\n",
       "    <tr>\n",
       "      <th>1<\/th>\n",
       "      <td>10.125<\/td>\n",
       "      <td>18.0<\/td>\n",
       "      <td>74.7<\/td>\n",
       "      <td>yes<\/td>\n",
       "      <td>female<\/td>\n",
       "      <td>no<\/td>\n",
       "      <td>0<\/td>\n",
       "      <td>98.75<\/td>\n",
       "      <td>5.188990<\/td>\n",
       "    <\/tr>\n",
       "    <tr>\n",
       "      <th>2<\/th>\n",
       "      <td>9.550<\/td>\n",
       "      <td>16.0<\/td>\n",
       "      <td>69.7<\/td>\n",
       "      <td>no<\/td>\n",
       "      <td>female<\/td>\n",
       "      <td>yes<\/td>\n",
       "      <td>0<\/td>\n",
       "      <td>11.01<\/td>\n",
       "      <td>4.894306<\/td>\n",
       "    <\/tr>\n",
       "    <tr>\n",
       "      <th>3<\/th>\n",
       "      <td>11.125<\/td>\n",
       "      <td>14.0<\/td>\n",
       "      <td>71.0<\/td>\n",
       "      <td>no<\/td>\n",
       "      <td>male<\/td>\n",
       "      <td>no<\/td>\n",
       "      <td>1<\/td>\n",
       "      <td>29.78<\/td>\n",
       "      <td>7.511037<\/td>\n",
       "    <\/tr>\n",
       "    <tr>\n",
       "      <th>4<\/th>\n",
       "      <td>4.800<\/td>\n",
       "      <td>5.0<\/td>\n",
       "      <td>56.9<\/td>\n",
       "      <td>no<\/td>\n",
       "      <td>male<\/td>\n",
       "      <td>no<\/td>\n",
       "      <td>4<\/td>\n",
       "      <td>72.84<\/td>\n",
       "      <td>3.240717<\/td>\n",
       "    <\/tr>\n",
       "    <tr>\n",
       "      <th>5<\/th>\n",
       "      <td>6.225<\/td>\n",
       "      <td>11.0<\/td>\n",
       "      <td>58.7<\/td>\n",
       "      <td>no<\/td>\n",
       "      <td>female<\/td>\n",
       "      <td>no<\/td>\n",
       "      <td>1<\/td>\n",
       "      <td>24.76<\/td>\n",
       "      <td>3.190268<\/td>\n",
       "    <\/tr>\n",
       "    <tr>\n",
       "      <th>...<\/th>\n",
       "      <td>...<\/td>\n",
       "      <td>...<\/td>\n",
       "      <td>...<\/td>\n",
       "      <td>...<\/td>\n",
       "      <td>...<\/td>\n",
       "      <td>...<\/td>\n",
       "      <td>...<\/td>\n",
       "      <td>...<\/td>\n",
       "      <td>...<\/td>\n",
       "    <\/tr>\n",
       "    <tr>\n",
       "      <th>740<\/th>\n",
       "      <td>9.325<\/td>\n",
       "      <td>14.0<\/td>\n",
       "      <td>65.5<\/td>\n",
       "      <td>no<\/td>\n",
       "      <td>male<\/td>\n",
       "      <td>no<\/td>\n",
       "      <td>0<\/td>\n",
       "      <td>65.50<\/td>\n",
       "      <td>6.295768<\/td>\n",
       "    <\/tr>\n",
       "    <tr>\n",
       "      <th>741<\/th>\n",
       "      <td>9.925<\/td>\n",
       "      <td>16.0<\/td>\n",
       "      <td>68.3<\/td>\n",
       "      <td>no<\/td>\n",
       "      <td>female<\/td>\n",
       "      <td>no<\/td>\n",
       "      <td>3<\/td>\n",
       "      <td>68.30<\/td>\n",
       "      <td>5.086491<\/td>\n",
       "    <\/tr>\n",
       "    <tr>\n",
       "      <th>742<\/th>\n",
       "      <td>8.725<\/td>\n",
       "      <td>19.0<\/td>\n",
       "      <td>68.4<\/td>\n",
       "      <td>no<\/td>\n",
       "      <td>female<\/td>\n",
       "      <td>no<\/td>\n",
       "      <td>3<\/td>\n",
       "      <td>68.40<\/td>\n",
       "      <td>4.471500<\/td>\n",
       "    <\/tr>\n",
       "    <tr>\n",
       "      <th>743<\/th>\n",
       "      <td>7.075<\/td>\n",
       "      <td>11.0<\/td>\n",
       "      <td>66.7<\/td>\n",
       "      <td>no<\/td>\n",
       "      <td>male<\/td>\n",
       "      <td>yes<\/td>\n",
       "      <td>4<\/td>\n",
       "      <td>66.70<\/td>\n",
       "      <td>4.776682<\/td>\n",
       "    <\/tr>\n",
       "    <tr>\n",
       "      <th>744<\/th>\n",
       "      <td>8.825<\/td>\n",
       "      <td>16.0<\/td>\n",
       "      <td>71.3<\/td>\n",
       "      <td>yes<\/td>\n",
       "      <td>female<\/td>\n",
       "      <td>no<\/td>\n",
       "      <td>0<\/td>\n",
       "      <td>71.30<\/td>\n",
       "      <td>4.522749<\/td>\n",
       "    <\/tr>\n",
       "  <\/tbody>\n",
       "<\/table>\n",
       "<p>707 rows × 9 columns<\/p>\n",
       "<\/div>"
      ]
     },
     "metadata":{},
     "output_type":"display_data"
    }
   ],
   "metadata":{
    "datalore":{
     "node_id":"xf5BsUIiQfD011zi4LwRtE",
     "type":"CODE",
     "hide_input_from_viewers":true,
     "hide_output_from_viewers":true
    }
   }
  },
  {
   "cell_type":"code",
   "source":[
    "plt.hist(df[\"tidal_volume\"])"
   ],
   "execution_count":7,
   "outputs":[
    {
     "data":{
      "text\/plain":[
       "(array([ 15.,  42.,  81., 131., 161., 119.,  70.,  55.,  25.,   8.]),\n",
       " array([0.25983386, 1.22463225, 2.18943063, 3.15422902, 4.1190274 ,\n",
       "        5.08382579, 6.04862417, 7.01342256, 7.97822095, 8.94301933,\n",
       "        9.90781772]),\n",
       " <BarContainer object of 10 artists>)"
      ]
     },
     "metadata":{},
     "output_type":"display_data"
    },
    {
     "data":{
      "image\/png":"[encoded data removed]"
     },
     "metadata":{
      "image\/png":{}
     },
     "output_type":"display_data"
    }
   ],
   "metadata":{
    "datalore":{
     "node_id":"fliLEYCei3g18EPCl2pYec",
     "type":"CODE",
     "hide_input_from_viewers":true,
     "hide_output_from_viewers":true
    }
   }
  },
  {
   "cell_type":"code",
   "source":[
    "df['Gender'] = df.apply(lambda row: 1 if row[\"Gender\"]==\"male\" else 0, axis=1)\n",
    "df['Smoke'] = df.apply(lambda row: 1 if row[\"Smoke\"]==\"yes\" else 0, axis=1)\n",
    "df['Caesarean'] = df.apply(lambda row: 1 if row[\"Caesarean\"]==\"yes\" else 0, axis=1)\n",
    "df.head()"
   ],
   "execution_count":8,
   "outputs":[
    {
     "data":{
      "text\/html":[
       "<div>\n",
       "<style scoped>\n",
       "    .dataframe tbody tr th:only-of-type {\n",
       "        vertical-align: middle;\n",
       "    }\n",
       "\n",
       "    .dataframe tbody tr th {\n",
       "        vertical-align: top;\n",
       "    }\n",
       "\n",
       "    .dataframe thead th {\n",
       "        text-align: right;\n",
       "    }\n",
       "<\/style>\n",
       "<table border=\"1\" class=\"dataframe\">\n",
       "  <thead>\n",
       "    <tr style=\"text-align: right;\">\n",
       "      <th><\/th>\n",
       "      <th>LungCap(cc)<\/th>\n",
       "      <th>Age( years)<\/th>\n",
       "      <th>Height(inches)<\/th>\n",
       "      <th>Smoke<\/th>\n",
       "      <th>Gender<\/th>\n",
       "      <th>Caesarean<\/th>\n",
       "      <th>No of children<\/th>\n",
       "      <th>Weight (kg)<\/th>\n",
       "      <th>tidal_volume<\/th>\n",
       "    <\/tr>\n",
       "  <\/thead>\n",
       "  <tbody>\n",
       "    <tr>\n",
       "      <th>1<\/th>\n",
       "      <td>10.125<\/td>\n",
       "      <td>18.0<\/td>\n",
       "      <td>74.7<\/td>\n",
       "      <td>1<\/td>\n",
       "      <td>0<\/td>\n",
       "      <td>0<\/td>\n",
       "      <td>0<\/td>\n",
       "      <td>98.75<\/td>\n",
       "      <td>5.188990<\/td>\n",
       "    <\/tr>\n",
       "    <tr>\n",
       "      <th>2<\/th>\n",
       "      <td>9.550<\/td>\n",
       "      <td>16.0<\/td>\n",
       "      <td>69.7<\/td>\n",
       "      <td>0<\/td>\n",
       "      <td>0<\/td>\n",
       "      <td>1<\/td>\n",
       "      <td>0<\/td>\n",
       "      <td>11.01<\/td>\n",
       "      <td>4.894306<\/td>\n",
       "    <\/tr>\n",
       "    <tr>\n",
       "      <th>3<\/th>\n",
       "      <td>11.125<\/td>\n",
       "      <td>14.0<\/td>\n",
       "      <td>71.0<\/td>\n",
       "      <td>0<\/td>\n",
       "      <td>1<\/td>\n",
       "      <td>0<\/td>\n",
       "      <td>1<\/td>\n",
       "      <td>29.78<\/td>\n",
       "      <td>7.511037<\/td>\n",
       "    <\/tr>\n",
       "    <tr>\n",
       "      <th>4<\/th>\n",
       "      <td>4.800<\/td>\n",
       "      <td>5.0<\/td>\n",
       "      <td>56.9<\/td>\n",
       "      <td>0<\/td>\n",
       "      <td>1<\/td>\n",
       "      <td>0<\/td>\n",
       "      <td>4<\/td>\n",
       "      <td>72.84<\/td>\n",
       "      <td>3.240717<\/td>\n",
       "    <\/tr>\n",
       "    <tr>\n",
       "      <th>5<\/th>\n",
       "      <td>6.225<\/td>\n",
       "      <td>11.0<\/td>\n",
       "      <td>58.7<\/td>\n",
       "      <td>0<\/td>\n",
       "      <td>0<\/td>\n",
       "      <td>0<\/td>\n",
       "      <td>1<\/td>\n",
       "      <td>24.76<\/td>\n",
       "      <td>3.190268<\/td>\n",
       "    <\/tr>\n",
       "  <\/tbody>\n",
       "<\/table>\n",
       "<\/div>"
      ]
     },
     "metadata":{},
     "output_type":"display_data"
    }
   ],
   "metadata":{
    "datalore":{
     "node_id":"vSxwe94n4wBYCzPOsqWrV9",
     "type":"CODE",
     "hide_input_from_viewers":true,
     "hide_output_from_viewers":true
    }
   }
  },
  {
   "cell_type":"code",
   "source":[
    "# Import necessary function\n",
    "from sklearn.model_selection import train_test_split\n",
    "\n",
    "# Define features and target\n",
    "X = df.drop(\"tidal_volume\", axis=1)\n",
    "y = df[\"tidal_volume\"]\n",
    "\n",
    "# Split into training and testing sets\n",
    "X_train, X_test, y_train, y_test = train_test_split(X, y, test_size=0.3, random_state=42)\n",
    "\n",
    "# View the shapes of the train\/test data\n",
    "print(X_train.shape, X_test.shape, y_train.shape, y_test.shape)"
   ],
   "execution_count":9,
   "outputs":[
    {
     "name":"stdout",
     "text":[
      "(494, 8) (213, 8) (494,) (213,)\n"
     ],
     "output_type":"stream"
    }
   ],
   "metadata":{
    "datalore":{
     "node_id":"twwAnEoX7mqxbGvarbweLM",
     "type":"CODE",
     "hide_input_from_viewers":true,
     "hide_output_from_viewers":true
    }
   }
  },
  {
   "cell_type":"code",
   "source":[
    "from sklearn.preprocessing import StandardScaler\n",
    "\n",
    "def scale_data(train_data, test_data):\n",
    "    scaler = StandardScaler()\n",
    "    scaler.fit(train_data)\n",
    "    train_data_scaled = scaler.transform(train_data)\n",
    "    test_data_scaled = scaler.transform(test_data)\n",
    "\n",
    "    return train_data_scaled, test_data_scaled\n",
    "\n",
    "X_train_scaled, X_test_scaled = scale_data(X_train, X_test)"
   ],
   "execution_count":10,
   "outputs":[],
   "metadata":{
    "datalore":{
     "node_id":"O4dxpNxzj8oBTUssL62asu",
     "type":"CODE",
     "hide_input_from_viewers":true,
     "hide_output_from_viewers":true
    }
   }
  },
  {
   "cell_type":"code",
   "source":[
    "from sklearn.linear_model import LinearRegression\n",
    "\n",
    "# Initialize the model\n",
    "lr = LinearRegression()\n",
    "\n",
    "# Fit the model\n",
    "lr.fit(X_train_scaled, y_train)"
   ],
   "execution_count":11,
   "outputs":[
    {
     "data":{
      "text\/html":[
       "<style>#sk-container-id-1 {color: black;background-color: white;}#sk-container-id-1 pre{padding: 0;}#sk-container-id-1 div.sk-toggleable {background-color: white;}#sk-container-id-1 label.sk-toggleable__label {cursor: pointer;display: block;width: 100%;margin-bottom: 0;padding: 0.3em;box-sizing: border-box;text-align: center;}#sk-container-id-1 label.sk-toggleable__label-arrow:before {content: \"▸\";float: left;margin-right: 0.25em;color: #696969;}#sk-container-id-1 label.sk-toggleable__label-arrow:hover:before {color: black;}#sk-container-id-1 div.sk-estimator:hover label.sk-toggleable__label-arrow:before {color: black;}#sk-container-id-1 div.sk-toggleable__content {max-height: 0;max-width: 0;overflow: hidden;text-align: left;background-color: #f0f8ff;}#sk-container-id-1 div.sk-toggleable__content pre {margin: 0.2em;color: black;border-radius: 0.25em;background-color: #f0f8ff;}#sk-container-id-1 input.sk-toggleable__control:checked~div.sk-toggleable__content {max-height: 200px;max-width: 100%;overflow: auto;}#sk-container-id-1 input.sk-toggleable__control:checked~label.sk-toggleable__label-arrow:before {content: \"▾\";}#sk-container-id-1 div.sk-estimator input.sk-toggleable__control:checked~label.sk-toggleable__label {background-color: #d4ebff;}#sk-container-id-1 div.sk-label input.sk-toggleable__control:checked~label.sk-toggleable__label {background-color: #d4ebff;}#sk-container-id-1 input.sk-hidden--visually {border: 0;clip: rect(1px 1px 1px 1px);clip: rect(1px, 1px, 1px, 1px);height: 1px;margin: -1px;overflow: hidden;padding: 0;position: absolute;width: 1px;}#sk-container-id-1 div.sk-estimator {font-family: monospace;background-color: #f0f8ff;border: 1px dotted black;border-radius: 0.25em;box-sizing: border-box;margin-bottom: 0.5em;}#sk-container-id-1 div.sk-estimator:hover {background-color: #d4ebff;}#sk-container-id-1 div.sk-parallel-item::after {content: \"\";width: 100%;border-bottom: 1px solid gray;flex-grow: 1;}#sk-container-id-1 div.sk-label:hover label.sk-toggleable__label {background-color: #d4ebff;}#sk-container-id-1 div.sk-serial::before {content: \"\";position: absolute;border-left: 1px solid gray;box-sizing: border-box;top: 0;bottom: 0;left: 50%;z-index: 0;}#sk-container-id-1 div.sk-serial {display: flex;flex-direction: column;align-items: center;background-color: white;padding-right: 0.2em;padding-left: 0.2em;position: relative;}#sk-container-id-1 div.sk-item {position: relative;z-index: 1;}#sk-container-id-1 div.sk-parallel {display: flex;align-items: stretch;justify-content: center;background-color: white;position: relative;}#sk-container-id-1 div.sk-item::before, #sk-container-id-1 div.sk-parallel-item::before {content: \"\";position: absolute;border-left: 1px solid gray;box-sizing: border-box;top: 0;bottom: 0;left: 50%;z-index: -1;}#sk-container-id-1 div.sk-parallel-item {display: flex;flex-direction: column;z-index: 1;position: relative;background-color: white;}#sk-container-id-1 div.sk-parallel-item:first-child::after {align-self: flex-end;width: 50%;}#sk-container-id-1 div.sk-parallel-item:last-child::after {align-self: flex-start;width: 50%;}#sk-container-id-1 div.sk-parallel-item:only-child::after {width: 0;}#sk-container-id-1 div.sk-dashed-wrapped {border: 1px dashed gray;margin: 0 0.4em 0.5em 0.4em;box-sizing: border-box;padding-bottom: 0.4em;background-color: white;}#sk-container-id-1 div.sk-label label {font-family: monospace;font-weight: bold;display: inline-block;line-height: 1.2em;}#sk-container-id-1 div.sk-label-container {text-align: center;}#sk-container-id-1 div.sk-container {\/* jupyter's `normalize.less` sets `[hidden] { display: none; }` but bootstrap.min.css set `[hidden] { display: none !important; }` so we also need the `!important` here to be able to override the default hidden behavior on the sphinx rendered scikit-learn.org. See: https:\/\/github.com\/scikit-learn\/scikit-learn\/issues\/21755 *\/display: inline-block !important;position: relative;}#sk-container-id-1 div.sk-text-repr-fallback {display: none;}<\/style><div id=\"sk-container-id-1\" class=\"sk-top-container\"><div class=\"sk-text-repr-fallback\"><pre>LinearRegression()<\/pre><b>In a Jupyter environment, please rerun this cell to show the HTML representation or trust the notebook. <br \/>On GitHub, the HTML representation is unable to render, please try loading this page with nbviewer.org.<\/b><\/div><div class=\"sk-container\" hidden><div class=\"sk-item\"><div class=\"sk-estimator sk-toggleable\"><input class=\"sk-toggleable__control sk-hidden--visually\" id=\"sk-estimator-id-1\" type=\"checkbox\" checked><label for=\"sk-estimator-id-1\" class=\"sk-toggleable__label sk-toggleable__label-arrow\">LinearRegression<\/label><div class=\"sk-toggleable__content\"><pre>LinearRegression()<\/pre><\/div><\/div><\/div><\/div><\/div>"
      ]
     },
     "metadata":{},
     "output_type":"display_data"
    }
   ],
   "metadata":{
    "datalore":{
     "node_id":"K9D86BaGsaaN3Osr6W4z6O",
     "type":"CODE",
     "hide_input_from_viewers":true,
     "hide_output_from_viewers":true
    }
   }
  },
  {
   "cell_type":"code",
   "source":[
    "from sklearn.metrics import mean_squared_error\n",
    "\n",
    "# Find the predicted values for the training data\n",
    "y_train_pred = lr.predict(X_train_scaled)\n",
    "\n",
    "# Find the mean squared error\n",
    "mse = mean_squared_error(y_train, y_train_pred)\n",
    "\n",
    "print('Mean Squared Error for the training data: ', mse)"
   ],
   "execution_count":12,
   "outputs":[
    {
     "name":"stdout",
     "text":[
      "Mean Squared Error for the training data:  0.04467223958468404\n"
     ],
     "output_type":"stream"
    }
   ],
   "metadata":{
    "datalore":{
     "node_id":"I3LoBaXj7MST5KUd3OkTHU",
     "type":"CODE",
     "hide_input_from_viewers":true,
     "hide_output_from_viewers":true
    }
   }
  },
  {
   "cell_type":"code",
   "source":[
    "# Find the predicted values for testing data\n",
    "y_test_pred = lr.predict(X_test_scaled)\n",
    "\n",
    "# Find the mean squared error\n",
    "mse_test = mean_squared_error(y_test, y_test_pred)\n",
    "\n",
    "print('Mean Squared Error for the testing data: ', mse_test)"
   ],
   "execution_count":13,
   "outputs":[
    {
     "name":"stdout",
     "text":[
      "Mean Squared Error for the testing data:  0.04772689625683986\n"
     ],
     "output_type":"stream"
    }
   ],
   "metadata":{
    "datalore":{
     "node_id":"LTAz5aFCEKLgi0hED7nV8V",
     "type":"CODE",
     "hide_input_from_viewers":true,
     "hide_output_from_viewers":true
    }
   }
  },
  {
   "cell_type":"code",
   "source":[
    "# Import matplotlib's pyplot library\n",
    "from matplotlib import pyplot as plt\n",
    "\n",
    "# Plot the predicted vs actual values\n",
    "plt.figure(figsize=(8,6))\n",
    "plt.scatter(y_train, y_train_pred, color='blue', alpha=0.6, label='Train')\n",
    "plt.scatter(y_test, y_test_pred, color='red', alpha=0.6, label='Test')\n",
    "plt.xlabel('Actual Values')\n",
    "plt.ylabel('Predicted Values')\n",
    "plt.legend(loc='upper left')\n",
    "plt.title('Actual vs Predicted Values: Train & Test Data')\n",
    "plt.show()"
   ],
   "execution_count":14,
   "outputs":[
    {
     "data":{
      "image\/png":"[encoded data removed]"
     },
     "metadata":{
      "image\/png":{}
     },
     "output_type":"display_data"
    }
   ],
   "metadata":{
    "datalore":{
     "node_id":"OFGdc5LT7SEPtIySMibfFr",
     "type":"CODE",
     "hide_input_from_viewers":true,
     "hide_output_from_viewers":true
    }
   }
  },
  {
   "cell_type":"code",
   "source":[],
   "execution_count":0,
   "outputs":[],
   "metadata":{
    "datalore":{
     "node_id":"qphczOLEQyyT9BfnvmCMo5",
     "type":"CODE",
     "hide_input_from_viewers":true,
     "hide_output_from_viewers":true
    }
   }
  }
 ],
 "metadata":{
  "kernelspec":{
   "display_name":"Python",
   "language":"python",
   "name":"python"
  },
  "datalore":{
   "computation_mode":"REACTIVE",
   "package_manager":"pip",
   "base_environment":"default",
   "packages":[],
   "report_row_ids":[],
   "version":3
  }
 },
 "nbformat":4,
 "nbformat_minor":4
}